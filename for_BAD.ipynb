{
 "cells": [
  {
   "cell_type": "code",
   "execution_count": 3,
   "id": "00b95c94-b576-42c6-8756-f0fc25762ea0",
   "metadata": {},
   "outputs": [],
   "source": [
    "import pandas as pd\n",
    "filename = '10m.txt'"
   ]
  },
  {
   "cell_type": "code",
   "execution_count": 16,
   "id": "61644988-eb06-4d5a-a2e8-4afd567ce43b",
   "metadata": {},
   "outputs": [
    {
     "name": "stdout",
     "output_type": "stream",
     "text": [
      "Час виконання: 3.449308156967163 секунд\n"
     ]
    }
   ],
   "source": [
    "# Читаємо файл частинами\n",
    "chunksize = 10**6  # Зчитуємо по мільйону рядків за раз\n",
    "max_num = 0\n",
    "min_num = 0\n",
    "total_sum = 0\n",
    "total_count = 0\n",
    "numbers = []\n",
    "\n",
    "\n",
    "for chunk in pd.read_csv(filename, chunksize=chunksize, header=None):\n",
    "    #Пишу такий перебір тільки через вимогу завдання\n",
    "    #При перевірці виявив що код з стандартними функціями min(), max() майже у 2 рази швидше\n",
    "    for i in chunk[0]:\n",
    "        if i > max_num:\n",
    "            max_num = i\n",
    "        if i < min_num:\n",
    "            min_num = i\n",
    "        total_sum += i\n",
    "        total_count += 1\n",
    "        \n"
   ]
  },
  {
   "cell_type": "code",
   "execution_count": 17,
   "id": "a59d7ad9-6ce1-4aad-a9b6-755545f3479e",
   "metadata": {},
   "outputs": [
    {
     "name": "stdout",
     "output_type": "stream",
     "text": [
      "Max number: 49999978\n",
      "Min number: -49999996\n",
      "Mean: 7364.418442641844\n"
     ]
    }
   ],
   "source": [
    "mean = total_sum / total_count\n",
    "\n",
    "print(\"Max number:\", max_num)\n",
    "print(\"Min number:\", min_num)\n",
    "print(\"Mean:\", mean)"
   ]
  },
  {
   "cell_type": "code",
   "execution_count": 18,
   "id": "17779170-f415-4be1-b305-7b4360ddc73f",
   "metadata": {},
   "outputs": [],
   "source": [
    "#Друга більш складна частина"
   ]
  },
  {
   "cell_type": "code",
   "execution_count": 19,
   "id": "dda24aba-ed93-4f70-af4d-6b481790ca5b",
   "metadata": {},
   "outputs": [
    {
     "name": "stdout",
     "output_type": "stream",
     "text": [
      "Найдовша зростаюча послідовність: [-40353787, -38132552, -12387052, -6963165, -3314171, 4399082, 8225082, 25009364, 44410340]\n",
      "Найдовша спадна послідовність: [46324925, 31502922, 20830571, 5981071, -29343213, -32979305, -34625920, -39672461, -42895914, -48468169]\n"
     ]
    }
   ],
   "source": [
    "def find_longest_sequence_in_chunk(numbers, last_num, longest, current, increasing=True):\n",
    "    start, end = longest\n",
    "    current_start = current[0] if current else 0\n",
    "    current_len = len(current)\n",
    "    \n",
    "    for i, num in enumerate(numbers):\n",
    "        if last_num is not None and ((last_num < num and increasing) or (last_num > num and not increasing)):\n",
    "            current_len += 1\n",
    "        else:\n",
    "            if current_len > end - start:\n",
    "                start, end = current_start, current_start + current_len\n",
    "                current = numbers[start:end]  # Зберігаємо найдовшу послідовність\n",
    "            current_start = i\n",
    "            current_len = 1\n",
    "\n",
    "        last_num = num\n",
    "\n",
    "    if current_len > end - start:\n",
    "        start, end = current_start, current_start + current_len\n",
    "        current = numbers[start:end]  # Оновлюємо найдовшу послідовність, якщо поточна довша\n",
    "\n",
    "    return (start, end), current_start, current_len, last_num, current\n",
    "\n",
    "longest_inc = (0, 0)\n",
    "current_inc = []\n",
    "last_inc_num = None\n",
    "\n",
    "longest_dec = (0, 0)\n",
    "current_dec = []\n",
    "last_dec_num = None\n",
    "\n",
    "inc_sequence = []\n",
    "dec_sequence = []\n",
    "\n",
    "for chunk in pd.read_csv(filename, chunksize=chunksize, header=None):\n",
    "    numbers = chunk[0].tolist()\n",
    "\n",
    "    # Знаходимо найдовші зростаючі послідовності\n",
    "    longest_inc, current_start, current_len, last_inc_num, current_inc = find_longest_sequence_in_chunk(\n",
    "        numbers, last_inc_num, longest_inc, current_inc, increasing=True\n",
    "    )\n",
    "    if len(current_inc) > len(inc_sequence):\n",
    "        inc_sequence = current_inc  # Оновлюємо найдовшу зростаючу послідовність\n",
    "\n",
    "    # Знаходимо найдовші спадні послідовності\n",
    "    longest_dec, current_start, current_len, last_dec_num, current_dec = find_longest_sequence_in_chunk(\n",
    "        numbers, last_dec_num, longest_dec, current_dec, increasing=False\n",
    "    )\n",
    "    if len(current_dec) > len(dec_sequence):\n",
    "        dec_sequence = current_dec  # Оновлюємо найдовшу спадну послідовність\n",
    "\n",
    "print(\"Найдовша зростаюча послідовність:\", inc_sequence)\n",
    "print(\"Найдовша спадна послідовність:\", dec_sequence)\n"
   ]
  },
  {
   "cell_type": "code",
   "execution_count": 20,
   "id": "2662d048-c79d-4d37-8ed6-f9f9cc860b21",
   "metadata": {},
   "outputs": [],
   "source": [
    "#Узявши до уваги кількість чисел у кожному чанку вирішив що цей алгоритм сортування найкраще підходить для виконання завдання\n",
    "def merge_sort(arr):\n",
    "    if len(arr) > 1:\n",
    "        mid = len(arr) // 2\n",
    "        left_half = arr[:mid]\n",
    "        right_half = arr[mid:]\n",
    "\n",
    "        merge_sort(left_half)\n",
    "        merge_sort(right_half)\n",
    "\n",
    "        i = j = k = 0\n",
    "\n",
    "        while i < len(left_half) and j < len(right_half):\n",
    "            if left_half[i] < right_half[j]:\n",
    "                arr[k] = left_half[i]\n",
    "                i += 1\n",
    "            else:\n",
    "                arr[k] = right_half[j]\n",
    "                j += 1\n",
    "            k += 1\n",
    "\n",
    "        while i < len(left_half):\n",
    "            arr[k] = left_half[i]\n",
    "            i += 1\n",
    "            k += 1\n",
    "\n",
    "        while j < len(right_half):\n",
    "            arr[k] = right_half[j]\n",
    "            j += 1\n",
    "            k += 1\n",
    "\n",
    "    return arr"
   ]
  },
  {
   "cell_type": "code",
   "execution_count": 24,
   "id": "7125191b-0d56-4a0a-8f5d-f9fec14524b3",
   "metadata": {},
   "outputs": [
    {
     "name": "stdout",
     "output_type": "stream",
     "text": [
      "The median is: 25216\n"
     ]
    }
   ],
   "source": [
    "#У цій частині окрім знаходження медіани хочу показати знання парсингу з файлу\n",
    "#вище була задіяна бібліотека пандас для оптимізації часу виконання\n",
    "# Відкрити файл з числами у режимі читання\n",
    "with open(filename, 'r') as file:\n",
    "    # Прочитати кожен рядок файлу, видалити зайві пробіли та перевести у список чисел\n",
    "    numbers = [int(line.strip()) for line in file]\n",
    "\n",
    "# Виклик функції для сортування списку чисел методом злиття (merge sort)\n",
    "numbers = merge_sort(numbers)\n",
    "\n",
    "# Функція для знаходження медіани у відсортованому списку чисел\n",
    "def find_median(numbers):\n",
    "    # Визначити кількість чисел у списку\n",
    "    n = len(numbers)\n",
    "    # Якщо кількість чисел парна\n",
    "    if n % 2 == 0:\n",
    "        # Медіана - це середнє значення двох середніх чисел\n",
    "        median = (numbers[n//2 - 1] + numbers[n//2]) / 2\n",
    "    else:\n",
    "        # Якщо кількість чисел непарна, медіана - це середнє число у списку\n",
    "        median = numbers[n//2]\n",
    "\n",
    "    # Повернути значення медіани\n",
    "    return median\n",
    "\n",
    "# Виклик функції для знаходження медіани\n",
    "median = find_median(numbers)\n",
    "print(f\"The median is: {median}\")"
   ]
  },
  {
   "cell_type": "code",
   "execution_count": null,
   "id": "a2af2428-2cb6-49eb-886f-cbe5a7b982a7",
   "metadata": {},
   "outputs": [],
   "source": []
  }
 ],
 "metadata": {
  "kernelspec": {
   "display_name": "Python 3 (ipykernel)",
   "language": "python",
   "name": "python3"
  },
  "language_info": {
   "codemirror_mode": {
    "name": "ipython",
    "version": 3
   },
   "file_extension": ".py",
   "mimetype": "text/x-python",
   "name": "python",
   "nbconvert_exporter": "python",
   "pygments_lexer": "ipython3",
   "version": "3.11.9"
  }
 },
 "nbformat": 4,
 "nbformat_minor": 5
}
